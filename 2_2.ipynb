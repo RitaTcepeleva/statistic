{
 "cells": [
  {
   "cell_type": "code",
   "execution_count": 105,
   "metadata": {},
   "outputs": [],
   "source": [
    "import scipy.stats as sps\n",
    "import numpy as np\n",
    "import random\n",
    "import ipywidgets as widgets\n",
    "import matplotlib.pyplot as plt\n",
    "%matplotlib inline\n",
    "\n",
    "A = 4\n",
    "B = 8\n",
    "N = 200"
   ]
  },
  {
   "cell_type": "markdown",
   "metadata": {},
   "source": [
    "Смоделируйте две выборки - первая из биномиального распределения с [a/2] испытаниями и вероятностью a/(a+b), вторая из биномиального распределения с [b/2] испытаниями и вероятностью b/(a+b) (возьмите n, достаточно большое для применимости критерия Пирсона):"
   ]
  },
  {
   "cell_type": "code",
   "execution_count": 106,
   "metadata": {},
   "outputs": [
    {
     "name": "stdout",
     "output_type": "stream",
     "text": [
      "[1 2 0 1 0 1 0 0 1 2 2 0 0 1 0 1 1 1 0 0 0 1 1 1 1 0 1 2 1 1 0 0 0 1 0 2 1\n",
      " 0 1 0 1 1 0 0 0 1 1 1 1 0 0 2 1 2 0 1 1 0 0 1 2 1 1 1 0 0 1 1 1 0 2 2 0 0\n",
      " 1 1 1 1 2 0 1 0 2 0 2 0 0 0 2 2 1 0 0 1 0 2 1 1 1 0 1 1 1 2 0 1 0 0 2 1 0\n",
      " 0 0 0 1 0 1 0 2 1 0 1 1 1 0 1 2 1 0 1 1 1 0 1 0 0 0 1 0 0 0 0 0 1 0 0 1 0\n",
      " 1 2 0 0 1 2 0 0 0 1 2 1 0 0 2 0 0 1 0 0 0 2 0 1 1 1 1 1 0 1 0 0 0 1 0 0 1\n",
      " 1 0 1 0 1 0 1 1 2 0 1 1 1 1 1]\n",
      "--------------------------------------------------------------------------\n",
      "[1 3 1 2 2 2 4 0 2 2 3 1 2 3 3 2 3 2 3 3 4 3 1 2 4 3 3 3 3 2 2 3 3 3 4 3 1\n",
      " 2 0 4 2 3 4 1 3 3 3 3 4 1 4 1 3 3 1 4 1 4 3 3 2 4 2 1 2 2 2 3 4 2 3 2 3 3\n",
      " 2 1 2 0 2 3 3 3 2 4 4 3 2 3 4 4 3 2 3 4 1 3 2 4 2 4 1 1 2 0 2 3 1 2 4 1 1\n",
      " 2 2 2 2 1 3 3 3 3 3 3 2 2 4 4 3 3 3 3 3 2 2 3 2 4 3 2 3 1 2 2 3 3 3 3 4 2\n",
      " 4 1 1 2 3 4 1 4 4 3 2 3 3 4 2 3 3 3 2 3 3 3 3 4 1 3 2 3 3 3 2 1 2 2 3 3 3\n",
      " 3 4 2 2 3 2 3 2 3 2 3 2 2 1 3]\n"
     ]
    }
   ],
   "source": [
    "x = np.random.binomial(A/2, A/(A+B), size = N)\n",
    "y = np.random.binomial(B/2, B/(A+B), size = N)\n",
    "\n",
    "print(x)\n",
    "print('--------------------------------------------------------------------------')\n",
    "print(y)"
   ]
  },
  {
   "cell_type": "markdown",
   "metadata": {},
   "source": [
    "Построим двумерную выборку из двух смоделированных выборок (x1,y1), (x2,y2),...,(xn,yn):"
   ]
  },
  {
   "cell_type": "code",
   "execution_count": 107,
   "metadata": {},
   "outputs": [
    {
     "name": "stdout",
     "output_type": "stream",
     "text": [
      "[[1, 2, 0, 1, 0, 1, 0, 0, 1, 2, 2, 0, 0, 1, 0, 1, 1, 1, 0, 0, 0, 1, 1, 1, 1, 0, 1, 2, 1, 1, 0, 0, 0, 1, 0, 2, 1, 0, 1, 0, 1, 1, 0, 0, 0, 1, 1, 1, 1, 0, 0, 2, 1, 2, 0, 1, 1, 0, 0, 1, 2, 1, 1, 1, 0, 0, 1, 1, 1, 0, 2, 2, 0, 0, 1, 1, 1, 1, 2, 0, 1, 0, 2, 0, 2, 0, 0, 0, 2, 2, 1, 0, 0, 1, 0, 2, 1, 1, 1, 0, 1, 1, 1, 2, 0, 1, 0, 0, 2, 1, 0, 0, 0, 0, 1, 0, 1, 0, 2, 1, 0, 1, 1, 1, 0, 1, 2, 1, 0, 1, 1, 1, 0, 1, 0, 0, 0, 1, 0, 0, 0, 0, 0, 1, 0, 0, 1, 0, 1, 2, 0, 0, 1, 2, 0, 0, 0, 1, 2, 1, 0, 0, 2, 0, 0, 1, 0, 0, 0, 2, 0, 1, 1, 1, 1, 1, 0, 1, 0, 0, 0, 1, 0, 0, 1, 1, 0, 1, 0, 1, 0, 1, 1, 2, 0, 1, 1, 1, 1, 1], [1, 3, 1, 2, 2, 2, 4, 0, 2, 2, 3, 1, 2, 3, 3, 2, 3, 2, 3, 3, 4, 3, 1, 2, 4, 3, 3, 3, 3, 2, 2, 3, 3, 3, 4, 3, 1, 2, 0, 4, 2, 3, 4, 1, 3, 3, 3, 3, 4, 1, 4, 1, 3, 3, 1, 4, 1, 4, 3, 3, 2, 4, 2, 1, 2, 2, 2, 3, 4, 2, 3, 2, 3, 3, 2, 1, 2, 0, 2, 3, 3, 3, 2, 4, 4, 3, 2, 3, 4, 4, 3, 2, 3, 4, 1, 3, 2, 4, 2, 4, 1, 1, 2, 0, 2, 3, 1, 2, 4, 1, 1, 2, 2, 2, 2, 1, 3, 3, 3, 3, 3, 3, 2, 2, 4, 4, 3, 3, 3, 3, 3, 2, 2, 3, 2, 4, 3, 2, 3, 1, 2, 2, 3, 3, 3, 3, 4, 2, 4, 1, 1, 2, 3, 4, 1, 4, 4, 3, 2, 3, 3, 4, 2, 3, 3, 3, 2, 3, 3, 3, 3, 4, 1, 3, 2, 3, 3, 3, 2, 1, 2, 2, 3, 3, 3, 3, 4, 2, 2, 3, 2, 3, 2, 3, 2, 3, 2, 2, 1, 3]]\n"
     ]
    }
   ],
   "source": [
    "xy = [[],[]]\n",
    "for i in range(N):\n",
    "    xy[0].append(x[i])\n",
    "    xy[1].append(y[i])\n",
    "\n",
    "print(xy)"
   ]
  },
  {
   "cell_type": "code",
   "execution_count": 113,
   "metadata": {},
   "outputs": [
    {
     "name": "stdout",
     "output_type": "stream",
     "text": [
      "3.0 5.0\n",
      "X     0   1   2  All\n",
      "Y                   \n",
      "0     1   2   1    4\n",
      "1    13  11   2   26\n",
      "2    26  26   7   59\n",
      "3    32  37  11   80\n",
      "4    15  11   5   31\n",
      "All  87  87  26  200\n",
      "HI2 STATISTIC:  2.948965654457994\n",
      "Y2 STATISTIC:  3.008279133894174\n",
      "Критич знач  2.732636793\n",
      "Отвергаем\n"
     ]
    }
   ],
   "source": [
    "import pandas as pd\n",
    "import math\n",
    "\n",
    "r = A/2 + 1\n",
    "s = B/2 + 1\n",
    "print(r, s)\n",
    "\n",
    "df = pd.DataFrame({'X' : xy[0],\n",
    "                  'Y' : xy[1]})\n",
    "\n",
    "df = pd.crosstab(df.Y, df.X, margins=True)\n",
    "print(df)\n",
    "\n",
    "hi2_statistic = 0\n",
    "\n",
    "for i in range(int(r)):\n",
    "    for j in range(int(s)):\n",
    "        hi2_statistic += ((df[i][j] - (df.All[j]*df[i].All/df.All.All)) ** 2) / (df.All[j]*df[i].All/df.All.All)\n",
    "\n",
    "print('HI2 STATISTIC: ',hi2_statistic)\n",
    "\n",
    "y2_statistic = 0\n",
    "\n",
    "for i in range(int(r)):\n",
    "    for j in range(int(s)):\n",
    "        y2_statistic += df[i][j] * math.log((df[i][j]) / (df.All[j]*df[i].All/df.All.All))\n",
    "\n",
    "y2_statistic = 2 * y2_statistic\n",
    "\n",
    "print('Y2 STATISTIC: ',y2_statistic)\n",
    "\n",
    "degree = (r-1)*(s-1)\n",
    "\n",
    "critical_value = 2.732636793 #from excel ХИ2.ОБР(alpha=0.05; degree)\n",
    "\n",
    "print('Критич знач ', critical_value)\n",
    "\n",
    "if(hi2_statistic < critical_value):\n",
    "    print('Принимаем')\n",
    "else :\n",
    "    print('Отвергаем')\n",
    "\n"
   ]
  }
 ],
 "metadata": {
  "interpreter": {
   "hash": "aee8b7b246df8f9039afb4144a1f6fd8d2ca17a180786b69acc140d282b71a49"
  },
  "kernelspec": {
   "display_name": "Python 3.9.1 64-bit",
   "language": "python",
   "name": "python3"
  },
  "language_info": {
   "codemirror_mode": {
    "name": "ipython",
    "version": 3
   },
   "file_extension": ".py",
   "mimetype": "text/x-python",
   "name": "python",
   "nbconvert_exporter": "python",
   "pygments_lexer": "ipython3",
   "version": "3.9.1"
  },
  "orig_nbformat": 4
 },
 "nbformat": 4,
 "nbformat_minor": 2
}
