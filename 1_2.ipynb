{
 "cells": [
  {
   "cell_type": "code",
   "execution_count": 81,
   "metadata": {},
   "outputs": [],
   "source": [
    "import scipy.stats as sps\n",
    "import numpy as np\n",
    "import ipywidgets as widgets\n",
    "import matplotlib.pyplot as plt\n",
    "%matplotlib inline\n",
    "\n",
    "A = 4\n",
    "B = 8\n",
    "\n",
    "m = A*B\n",
    "sigma = A + B\n",
    "\n",
    "INTERVAL = [20,30]"
   ]
  },
  {
   "cell_type": "code",
   "execution_count": 82,
   "metadata": {},
   "outputs": [],
   "source": [
    "def normal_dist(x , mean , sd):\n",
    "    prob_density = (np.pi*sd) * np.exp(-0.5*((x-mean)/sd)**2)\n",
    "    return prob_density"
   ]
  },
  {
   "cell_type": "markdown",
   "metadata": {},
   "source": [
    "Вероятность попадания в интервал:"
   ]
  },
  {
   "cell_type": "code",
   "execution_count": 83,
   "metadata": {},
   "outputs": [
    {
     "name": "stdout",
     "output_type": "stream",
     "text": [
      "0.17831816102447484\n"
     ]
    }
   ],
   "source": [
    "p = normal_dist((INTERVAL[1] - m) / sigma , m ,sigma) - normal_dist((INTERVAL[0] - m) / sigma, m, sigma)\n",
    "print(p)"
   ]
  },
  {
   "cell_type": "markdown",
   "metadata": {},
   "source": [
    "Сгенерируйте выборку из генеральной совокупности с указанным распределением объема 100:"
   ]
  },
  {
   "cell_type": "code",
   "execution_count": 84,
   "metadata": {},
   "outputs": [
    {
     "name": "stdout",
     "output_type": "stream",
     "text": [
      "[ 4.58138070e+00 -4.28904952e-01  1.36274799e+01  8.01973124e-01\n",
      "  1.39217122e+01  9.75183158e+00  2.99176350e+00  1.15789159e+01\n",
      " -8.67961107e+00 -3.90237472e+00  1.49285550e+01 -1.33247392e+00\n",
      "  2.04285085e+01  1.26201746e+01 -1.75317273e+00  1.23459701e+01\n",
      "  9.02660481e+00 -1.46082171e+00 -3.66451228e+00 -1.11745259e+01\n",
      "  3.56230674e+00 -7.42734438e+00  2.16608342e+01 -5.50157426e+00\n",
      " -4.70732811e+00 -3.19767296e+00 -2.12715508e+00  8.83725736e-01\n",
      " -6.16001516e+00  2.19326029e+01  1.46371566e+01  9.10062638e+00\n",
      " -9.13898706e+00  8.29169849e+00 -1.40370850e-01 -2.33367286e+01\n",
      "  1.11167073e+01 -6.93454700e-01 -3.60198614e+00 -2.70445248e+00\n",
      " -1.09217203e+01  1.69155896e+01  1.29726140e+01 -6.21193314e-01\n",
      "  7.64698247e+00  7.16540721e+00  1.65355208e+01  2.28800647e+00\n",
      " -1.95700378e-02  6.80030444e+00  1.10017421e+01 -5.46630183e+00\n",
      " -3.43773765e-01  2.66131656e+00 -9.01998892e+00  2.81183609e+00\n",
      "  1.27910895e+00 -6.40448850e-01  1.26732538e+00  1.31332679e+00\n",
      "  1.35010628e+01  6.72160728e+00  5.98433868e+00 -1.30068492e+01\n",
      " -2.61659098e+00 -1.98507650e+00 -4.23385405e+00  1.58429869e+00\n",
      " -1.58487001e+00  1.31999271e+01 -2.35547554e+00  1.08559039e+00\n",
      " -1.15815819e+01  1.49305306e+01  2.23919562e+00 -4.45052238e+00\n",
      "  8.49571749e+00 -6.66392470e+00  7.36301528e-01 -5.40288625e+00\n",
      " -1.00348208e+01  2.08806773e+01  6.31787322e+00  2.05109439e+01\n",
      "  1.49089135e+01  5.73067033e+00 -9.12845300e+00  2.63301244e+00\n",
      "  6.08683571e+00 -7.20696403e+00  7.54809082e+00  6.54271192e+00\n",
      " -8.37480368e+00 -2.64403018e+00 -1.24747759e+01 -6.29951098e-02\n",
      " -1.40432825e+00  1.37354593e+00  7.44300607e+00  7.47480023e-01]\n"
     ]
    }
   ],
   "source": [
    "#first = sps.norm(A, B).rvs(size=100)\n",
    "first = np.random.normal(A, B, size = 100)\n",
    "print(first)"
   ]
  },
  {
   "cell_type": "markdown",
   "metadata": {},
   "source": [
    "Получите две случайные выборки объемом 15 значений из полученной выборочной совокупности:"
   ]
  },
  {
   "cell_type": "code",
   "execution_count": 85,
   "metadata": {},
   "outputs": [
    {
     "name": "stdout",
     "output_type": "stream",
     "text": [
      "[-0.4289049515062864, 2.6330124385716123, 6.5427119220706516, -9.128453003814277, 1.5842986938052346, 12.345970070240018, -0.6211933135454828, -1.3324739216107808, 1.3735459252696693, 0.8837257357284485, 14.930530588702398, -1.5848700071701032, 4.581380695818733, -2.3554755388961777, 1.2791089547926933]\n",
      "[-1.4043282503119885, 13.921712180863375, -2.616590983702614, 1.2791089547926933, 2.8118360859592135, 1.5842986938052346, -23.33672858442257, -0.6934546996873223, 9.026604811400132, -8.679611068180993, -6.663924704340586, -3.60198613751633, -9.138987063618217, -9.128453003814277, 11.001742101205016]\n"
     ]
    }
   ],
   "source": [
    "import random\n",
    "small_first = random.sample(sorted(first), 15)\n",
    "small_second = random.sample(sorted(first), 15)\n",
    "print(small_first)\n",
    "print(small_second)"
   ]
  },
  {
   "cell_type": "markdown",
   "metadata": {},
   "source": [
    "Вычислите для основной выборки и двух полученных из неё выборок вероятность (относительную частоту) попадания в интервал [20; 30]. Сравните полученные 4 вероятности (для генеральной совокупности и 3 выборок):"
   ]
  },
  {
   "cell_type": "code",
   "execution_count": 86,
   "metadata": {},
   "outputs": [],
   "source": [
    "def frequency(arr, interval):\n",
    "    counter = 0\n",
    "    for i in range(len(arr)):\n",
    "        if(arr[i] >= interval[0] and arr[i] <= interval[1]):\n",
    "            counter += 1\n",
    "\n",
    "    return counter"
   ]
  },
  {
   "cell_type": "code",
   "execution_count": 87,
   "metadata": {},
   "outputs": [
    {
     "name": "stdout",
     "output_type": "stream",
     "text": [
      "0.17831816102447484 0.05 0.0 0.0\n"
     ]
    }
   ],
   "source": [
    "'''mean_first = np.mean(first)\n",
    "sigma_first = np.std(first)\n",
    "p_first = normal_dist((INTERVAL[1] - mean_first) / sigma_first , mean_first ,sigma_first) - normal_dist((INTERVAL[0] - mean_first) / sigma_first, mean_first, sigma_first)\n",
    "print(p_first)\n",
    "\n",
    "mean_first = np.mean(small_first)\n",
    "sigma_first = np.std(small_first)\n",
    "p_first = normal_dist((INTERVAL[1] - mean_first) / sigma_first , mean_first ,sigma_first) - normal_dist((INTERVAL[0] - mean_first) / sigma_first, mean_first, sigma_first)\n",
    "print(p_first)'''\n",
    "\n",
    "p_first = frequency(first, INTERVAL) / 100\n",
    "p_small_first = frequency(small_first, INTERVAL) / 15\n",
    "p_small_second = frequency(small_second, INTERVAL) / 15\n",
    "\n",
    "print(p,p_first, p_small_first, p_small_second)\n"
   ]
  },
  {
   "cell_type": "markdown",
   "metadata": {},
   "source": [
    "Для двух маленьких выборок постройте точечные оценки параметров распределения:"
   ]
  },
  {
   "cell_type": "code",
   "execution_count": 94,
   "metadata": {},
   "outputs": [
    {
     "name": "stdout",
     "output_type": "stream",
     "text": [
      "ОШИБКА МО :  29.953139047436242\n",
      "ОШИБКА ДИСПЕРСИИ :  109.44458654868372\n",
      "ОШИБКА СР КВ ОТКЛ :  6.121614724151174\n",
      "-------------------------------------------\n",
      "ОШИБКА МО :  33.70925077783795\n",
      "ОШИБКА ДИСПЕРСИИ :  56.997748929222126\n",
      "ОШИБКА СР КВ ОТКЛ :  2.672500277631853\n"
     ]
    }
   ],
   "source": [
    "mean_small_first = np.mean(small_first)\n",
    "var_small_first = np.var(small_first, ddof=1)\n",
    "std_small_first = np.std(small_first, ddof=1)\n",
    "#print(mean_small_first, var_small_first, std_small_first)\n",
    "\n",
    "sum = 0\n",
    "for i in range(len(small_first)):\n",
    "    sum += small_first[i]\n",
    "\n",
    "mean_small_first_mark = sum / len(small_first)\n",
    "print(\"ОШИБКА МО : \", m - mean_small_first_mark)\n",
    "\n",
    "sum = 0\n",
    "for i in range(len(small_first)):\n",
    "    sum += (small_first[i] - mean_small_first_mark) ** 2\n",
    "var_small_first_mark = sum / (len(small_first)-1)\n",
    "print(\"ОШИБКА ДИСПЕРСИИ : \",sigma ** 2 - var_small_first_mark)\n",
    "\n",
    "std_small_first_mark = np.sqrt(var_small_first_mark)\n",
    "print(\"ОШИБКА СР КВ ОТКЛ : \",sigma - std_small_first_mark)\n",
    "\n",
    "print(\"-------------------------------------------\")\n",
    "\n",
    "mean_small_second = np.mean(small_second)\n",
    "var_small_second = np.var(small_second, ddof=1)\n",
    "std_small_second = np.std(small_second, ddof=1)\n",
    "#print(mean_small_second, var_small_second, std_small_second)\n",
    "\n",
    "sum = 0\n",
    "for i in range(len(small_second)):\n",
    "    sum += small_second[i]\n",
    "\n",
    "mean_small_second_mark = sum / len(small_second)\n",
    "print(\"ОШИБКА МО : \", m - mean_small_second_mark)\n",
    "\n",
    "sum = 0\n",
    "for i in range(len(small_second)):\n",
    "    sum += (small_second[i] - mean_small_second_mark) ** 2\n",
    "var_small_second_mark = sum / (len(small_second)-1)\n",
    "print(\"ОШИБКА ДИСПЕРСИИ : \",sigma ** 2 - var_small_second_mark)\n",
    "\n",
    "std_small_second_mark = np.sqrt(var_small_second_mark)\n",
    "print(\"ОШИБКА СР КВ ОТКЛ : \",sigma - std_small_second_mark)"
   ]
  },
  {
   "cell_type": "markdown",
   "metadata": {},
   "source": [
    "Найдите с помощью таблицы доверительный интервал для оценки неизвестного математического ожидания с уровнем доверия γ=0,95 , предполагая, что известно среднее квадратическое отклонение генеральной совокупности, которое равно сигма:"
   ]
  },
  {
   "cell_type": "code",
   "execution_count": 104,
   "metadata": {},
   "outputs": [
    {
     "name": "stdout",
     "output_type": "stream",
     "text": [
      "( 0.09072673888583749 , 4.794726738885837 )\n"
     ]
    }
   ],
   "source": [
    "gamma = 0.95\n",
    "laplas_from_t_gamma = gamma/2\n",
    "t_gamma = 1.96 #нашла по таблице\n",
    "delta = t_gamma * sigma / np.sqrt(len(first))\n",
    "#print(delta)\n",
    "\n",
    "trust_interval_left = np.mean(first) - delta\n",
    "trust_interval_right = np.mean(first) + delta\n",
    "print('(',trust_interval_left,',',trust_interval_right,')')"
   ]
  },
  {
   "cell_type": "markdown",
   "metadata": {},
   "source": [
    "Постройте доверительный интервал для оценки математического ожидания при неизвестном значении генерального среднего квадратического отклонения:"
   ]
  },
  {
   "cell_type": "code",
   "execution_count": 105,
   "metadata": {},
   "outputs": [
    {
     "name": "stdout",
     "output_type": "stream",
     "text": [
      "( 0.9659450176749806 , 3.919508460096694 )\n"
     ]
    }
   ],
   "source": [
    "sigma_mark = np.std(first, ddof=1)\n",
    "t_table = 1.66\n",
    "delta = t_table * sigma_mark / np.sqrt(len(first))\n",
    "trust_interval_left = np.mean(first) - delta\n",
    "trust_interval_right = np.mean(first) + delta\n",
    "print('(',trust_interval_left,',',trust_interval_right,')')"
   ]
  },
  {
   "cell_type": "markdown",
   "metadata": {},
   "source": [
    "Найдите доверительный интервал с уровнем доверия 0,95 для дисперсии при неизвестном значении генерального среднего:"
   ]
  },
  {
   "cell_type": "code",
   "execution_count": 107,
   "metadata": {},
   "outputs": [
    {
     "name": "stdout",
     "output_type": "stream",
     "text": [
      "( 6.858103328491251 , 12.0054293801031 )\n",
      "( 7.810990726576877 , 10.334583030223259 )\n"
     ]
    }
   ],
   "source": [
    "t1 = 73.36108019\n",
    "t2 = 128.4219886\n",
    "\n",
    "trust_interval_left = (len(first)-1)*np.std(first, ddof=1) / t2\n",
    "trust_interval_right = (len(first)-1)*np.std(first, ddof=1) / t1\n",
    "print('(',trust_interval_left,',',trust_interval_right,')')\n",
    "\n",
    "trust_interval_left = np.std(first, ddof=1) * (np.sqrt((len(first)-1)/t2))\n",
    "trust_interval_right = np.std(first, ddof=1) * (np.sqrt((len(first)-1)/t1))\n",
    "print('(',trust_interval_left,',',trust_interval_right,')')"
   ]
  }
 ],
 "metadata": {
  "interpreter": {
   "hash": "aee8b7b246df8f9039afb4144a1f6fd8d2ca17a180786b69acc140d282b71a49"
  },
  "kernelspec": {
   "display_name": "Python 3.9.1 64-bit",
   "language": "python",
   "name": "python3"
  },
  "language_info": {
   "codemirror_mode": {
    "name": "ipython",
    "version": 3
   },
   "file_extension": ".py",
   "mimetype": "text/x-python",
   "name": "python",
   "nbconvert_exporter": "python",
   "pygments_lexer": "ipython3",
   "version": "3.9.1"
  },
  "orig_nbformat": 4
 },
 "nbformat": 4,
 "nbformat_minor": 2
}
